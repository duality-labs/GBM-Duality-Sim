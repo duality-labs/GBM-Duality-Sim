{
 "cells": [
  {
   "cell_type": "code",
   "execution_count": 1,
   "id": "95656e01",
   "metadata": {},
   "outputs": [],
   "source": [
    "import numpy as np\n",
    "import pandas as pd\n",
    "import matplotlib.pyplot as plt\n",
    "import numpy as np"
   ]
  },
  {
   "cell_type": "code",
   "execution_count": 2,
   "id": "bb42f251",
   "metadata": {},
   "outputs": [],
   "source": [
    "# E[x] = exp(mu + 1/2*Sigma)\n",
    "# Var[x] = exp(\\mu \\ones^T + \\ones \\mu^T + 1/2 \\diag(Sigma)\\ones^T + \\ones\\diag(Sigma)^T ) (exp(Sigma) - 1)"
   ]
  },
  {
   "cell_type": "code",
   "execution_count": 3,
   "id": "a5bab766",
   "metadata": {},
   "outputs": [],
   "source": [
    "block_time_in_seconds = 15 # in seconds\n",
    "seconds_in_year = 86400 * 365\n",
    "blocks_in_year = seconds_in_year / block_time_in_seconds\n",
    "yearly_vol = .68\n",
    "time_period = int(86400 * 1)\n",
    "s = 0.0005\n",
    "epsilon = 0.0001\n",
    "\n",
    "# Calculates Variance from vol\n",
    "# std dev = sigma\n",
    "# vol = sigma sqrt(t)\n",
    "# var = ( sigma sqrt(T) )^2 / T = sigma T / T = sigma^2\n",
    "Variance = np.array([\n",
    "    [yearly_vol**2 / blocks_in_year,0],\n",
    "    [0,0],\n",
    "])\n",
    "\n",
    "#\n",
    "Expectation = np.ones(2)\n",
    "\n",
    "# mu = log(E)\n",
    "mu = np.log(Expectation) - 0.5 * np.diag(Variance)\n",
    "Sigma = np.log(Variance / np.outer(Expectation, Expectation) + 1)"
   ]
  },
  {
   "cell_type": "code",
   "execution_count": 4,
   "id": "35087906",
   "metadata": {},
   "outputs": [],
   "source": [
    "lp_return = []\n",
    "base_return = []\n",
    "for i in range(1000):\n",
    "    Returns = np.exp(np.random.multivariate_normal(mu, Sigma, size=time_period//block_time_in_seconds)) - 1\n",
    "    p = 1500\n",
    "    q_t = np.array([1, p])\n",
    "    p_t = np.array([p, 1])\n",
    "    p_bid = p * (1 - s)\n",
    "    p_ask = p / (1 - s)\n",
    "    for i in range(len(Returns)):\n",
    "        p_t = p_t * (1 + Returns[i])\n",
    "\n",
    "        delta_t = np.zeros(2)\n",
    "        if p_t[0] <= p_bid * (1 - epsilon):\n",
    "            delta_t[1] = q_t[1]\n",
    "        elif p_t[0] >= p_ask * (1 + epsilon):\n",
    "            delta_t[0] = q_t[0]\n",
    "\n",
    "        q_t = q_t + np.array([\n",
    "            -delta_t[0] + delta_t[1] / p_bid,\n",
    "            delta_t[0] * p_ask - delta_t[1]\n",
    "        ])\n",
    "    lp_return.append(q_t @ p_t / (2 * p) - 1)\n",
    "    base_return.append(np.array([1, p]) @ p_t / (2 * p) - 1)"
   ]
  },
  {
   "cell_type": "code",
   "execution_count": 5,
   "id": "e51233fe",
   "metadata": {},
   "outputs": [
    {
     "data": {
      "text/plain": [
       "<matplotlib.legend.Legend at 0x155b8ef10>"
      ]
     },
     "execution_count": 5,
     "metadata": {},
     "output_type": "execute_result"
    },
    {
     "data": {
      "image/png": "[encoded data removed]",
      "text/plain": [
       "<Figure size 432x288 with 1 Axes>"
      ]
     },
     "metadata": {
      "needs_background": "light"
     },
     "output_type": "display_data"
    }
   ],
   "source": [
    "plt.hist(lp_return, bins=25, alpha=.5, label='lp');\n",
    "plt.hist(base_return, bins=25, alpha=.5, label='base');\n",
    "plt.legend()"
   ]
  },
  {
   "cell_type": "code",
   "execution_count": 6,
   "id": "1443a119",
   "metadata": {},
   "outputs": [
    {
     "data": {
      "image/png": "[encoded data removed]",
      "text/plain": [
       "<Figure size 432x288 with 1 Axes>"
      ]
     },
     "metadata": {
      "needs_background": "light"
     },
     "output_type": "display_data"
    }
   ],
   "source": [
    "plt.hist(np.array(lp_return) - np.array(base_return), bins=50);"
   ]
  },
  {
   "cell_type": "code",
   "execution_count": 7,
   "id": "75a3ec87",
   "metadata": {},
   "outputs": [
    {
     "data": {
      "text/plain": [
       "(-0.006384628192292997, 0.022366923287071006)"
      ]
     },
     "execution_count": 7,
     "metadata": {},
     "output_type": "execute_result"
    }
   ],
   "source": [
    "np.array(lp_return).mean(), np.array(lp_return).std()"
   ]
  },
  {
   "cell_type": "code",
   "execution_count": 8,
   "id": "c06364cd",
   "metadata": {},
   "outputs": [
    {
     "data": {
      "text/plain": [
       "(-0.0004089942431239689, 0.0175847974433329)"
      ]
     },
     "execution_count": 8,
     "metadata": {},
     "output_type": "execute_result"
    }
   ],
   "source": [
    "np.array(base_return).mean(), np.array(base_return).std()"
   ]
  },
  {
   "cell_type": "code",
   "execution_count": null,
   "id": "8c4aeb90",
   "metadata": {},
   "outputs": [],
   "source": []
  }
 ],
 "metadata": {
  "kernelspec": {
   "display_name": "Python 3.8.3 64-bit",
   "language": "python",
   "name": "python3"
  },
  "language_info": {
   "codemirror_mode": {
    "name": "ipython",
    "version": 3
   },
   "file_extension": ".py",
   "mimetype": "text/x-python",
   "name": "python",
   "nbconvert_exporter": "python",
   "pygments_lexer": "ipython3",
   "version": "3.8.3"
  },
  "vscode": {
   "interpreter": {
    "hash": "aee8b7b246df8f9039afb4144a1f6fd8d2ca17a180786b69acc140d282b71a49"
   }
  }
 },
 "nbformat": 4,
 "nbformat_minor": 5
}
