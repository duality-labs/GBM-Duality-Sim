{
 "cells": [
  {
   "cell_type": "code",
   "execution_count": 801,
   "metadata": {},
   "outputs": [],
   "source": [
    "import math\n",
    "import itertools\n",
    "import numpy as np\n",
    "import scipy.stats as stats\n",
    "import matplotlib.pyplot as plt"
   ]
  },
  {
   "cell_type": "code",
   "execution_count": 802,
   "metadata": {},
   "outputs": [],
   "source": [
    "class BrownianToken():\n",
    "    \"\"\"\n",
    "    A Brownian motion class constructor\n",
    "    \"\"\"\n",
    "    def __init__(self, x0 = 0):\n",
    "        \"\"\"\n",
    "        Init class\n",
    "        \"\"\"\n",
    "        assert (type(x0) == float or type(x0) == int or x0 is None), \"Expect a float or None for the initial value\"\n",
    "        \n",
    "        self.x0 = float(x0)\n",
    "    \n",
    "    def gen_normal(self, n_step=100):\n",
    "        \"\"\"\n",
    "        Generate motion by drawing from the Normal distribution\n",
    "        \n",
    "        Arguments:\n",
    "            n_step: Number of steps\n",
    "            \n",
    "        Returns:\n",
    "            A NumPy array with `n_steps` points\n",
    "        \"\"\"\n",
    "        if n_step < 30:\n",
    "            print(\"WARNING! The number of steps is small. It may not generate a good stochastic process sequence!\")\n",
    "        \n",
    "        w = np.ones(n_step) * self.x0\n",
    "        \n",
    "        for i in range(1, n_step):\n",
    "            # Sampling from the Normal distribution\n",
    "            yi = np.random.normal()\n",
    "            # Weiner process\n",
    "            w[i] = w[i-1] + (yi / np.sqrt(n_step))\n",
    "        \n",
    "        return w\n",
    "    \n",
    "    def token_price(\n",
    "                    self,\n",
    "                    s0=100,\n",
    "                    sigma=0.68,\n",
    "                    deltaT=52,\n",
    "                    dt=0.1\n",
    "                    ):\n",
    "        \"\"\"\n",
    "        Models a token price S(t) using the Weiner process W(t) as\n",
    "        `S(t) = S(0).exp{sigma.W(t)}`\n",
    "        \n",
    "        Arguments:\n",
    "            s0: Iniital token price, default 100\n",
    "            sigma: 'Volatility' of the token, default 1\n",
    "            deltaT: The time period for which the future prices are computed, default 52 (as in 52 weeks)\n",
    "            dt (optional): The granularity of the time-period, default 0.1\n",
    "        \n",
    "        Returns:\n",
    "            s: A NumPy array with the simulated token prices over the time-period deltaT\n",
    "        \"\"\"\n",
    "        n_step = int(deltaT / dt)\n",
    "        time_vector = np.linspace(0, deltaT, num = n_step)\n",
    "        # Forcefully set the initial value to zero for the token price simulation\n",
    "        self.x0=0\n",
    "        # Weiner process (calls the `gen_normal` method)\n",
    "        weiner_process = sigma * self.gen_normal(n_step)\n",
    "        # take the exponent of the time series, and multiply it by the initial token price\n",
    "        s = s0*(np.exp(weiner_process))\n",
    "        \n",
    "        return s"
   ]
  },
  {
   "cell_type": "code",
   "execution_count": 803,
   "metadata": {},
   "outputs": [],
   "source": [
    "def plot_token_price(s0, sigma, deltaT, dt, n):\n",
    "    \"\"\"\n",
    "    Plots token price for multiple scenarios\n",
    "    \"\"\"\n",
    "    plt.figure(figsize=(9,4))\n",
    "    for i in range(n):\n",
    "        plt.plot(b.token_price(s0 = s0,\n",
    "                               sigma = sigma,\n",
    "                               deltaT = deltaT,\n",
    "                               dt = dt))\n",
    "    plt.legend(['Scenario-'+str(i) for i in range(1,n+1)],\n",
    "               loc='upper left')\n",
    "    plt.hlines(y=100, xmin=0, xmax=520,\n",
    "               linestyle='--',color='k')\n",
    "    plt.show()"
   ]
  },
  {
   "cell_type": "code",
   "execution_count": 804,
   "metadata": {},
   "outputs": [],
   "source": [
    "def single_pos_data_from_arb(token_prices, gamma, price, amount):\n",
    "    assert gamma < 1 and 0 <= gamma\n",
    "    count = 0\n",
    "    reserves = amount\n",
    "    a = False\n",
    "    for i in range(len(token_prices)):\n",
    "        if token_prices[i] < price * (1 - gamma) and a:\n",
    "            a = False\n",
    "            reserves = reserves / ( price * (1 - gamma) )\n",
    "            count += 1\n",
    "        elif token_prices[i] > price / (1 - gamma) and not a:\n",
    "            a = True\n",
    "            reserves = reserves / ((1 - gamma) / price)\n",
    "            count += 1\n",
    "\n",
    "    #TODO: need to validate assumptions for each of these calculations\n",
    "    flips = int(count / 2)\n",
    "    pos_growth = (1 / (1 - gamma) ** 2) ** flips\n",
    "    pos_value = min(price / (1 - gamma), token_prices[len(token_prices) - 1])\n",
    "\n",
    "    return pos_value * pos_growth, pos_growth, flips, reserves, a\n",
    "\n",
    "\n"
   ]
  },
  {
   "cell_type": "code",
   "execution_count": 805,
   "metadata": {},
   "outputs": [],
   "source": [
    "def plot_distribution(s0, sigma, deltaT, dt, gamma, amount, n):\n",
    "    b = BrownianToken(s0)\n",
    "    x = []\n",
    "    num_increments = deltaT / dt\n",
    "    for i in range(n):\n",
    "        token_prices = b.token_price(s0 = s0,\n",
    "                                    sigma = sigma,\n",
    "                                    deltaT = deltaT,\n",
    "                                    dt = dt)\n",
    "        # Benchmarked against 100% USD\n",
    "        #x.append(single_pos_data_from_arb(token_prices, gamma, s0, amount)[0] - s0)\n",
    "        # Benchmarked against 100% ETH\n",
    "        #.append(single_pos_data_from_arb(token_prices, gamma, s0, amount)[0] - token_prices[len(token_prices) - 1])\n",
    "        # Benchmarked against 50/50 ETH/USD\n",
    "        #ETH_USDC = (s0 / 2) + (token_prices[len(token_prices) - 1] / 2)\n",
    "        #x.append(single_pos_data_from_arb(token_prices, gamma, s0, amount)[0] - ETH_USDC )\n",
    "    plt.rcParams.update({'figure.figsize':(7,5), 'figure.dpi':100})\n",
    "    plt.hist(x, bins=50)\n",
    "    plt.gca().set(title= 'Single Position Start Price: {}'.format(s0), ylabel='Frequency', xlabel=\"End Position PnL 1 year\")\n",
    "    print(np.average(x))"
   ]
  },
  {
   "cell_type": "code",
   "execution_count": 806,
   "metadata": {},
   "outputs": [
    {
     "name": "stdout",
     "output_type": "stream",
     "text": [
      "-1055.0655863518134\n"
     ]
    },
    {
     "data": {
      "image/png": "[encoded data removed]",
      "text/plain": [
       "<Figure size 700x500 with 1 Axes>"
      ]
     },
     "metadata": {
      "needs_background": "light"
     },
     "output_type": "display_data"
    }
   ],
   "source": [
    "amount = 1\n",
    "s0 = 1500\n",
    "b = BrownianToken(s0)\n",
    "deltaT = 365\n",
    "dt = .1\n",
    "n = 100\n",
    "ETH_daily_vol = .05\n",
    "#sigma = annual vol\n",
    "sigma = ETH_daily_vol * np.sqrt(deltaT)\n",
    "\n",
    "stock_prices = b.token_price(s0 = s0,\n",
    "              sigma = sigma,\n",
    "              deltaT = deltaT,\n",
    "              dt = dt)\n",
    "\n",
    "#print(stock_prices)\n",
    "#print(single_pos_gains_from_arb(stock_prices, .01, s0, amount))\n",
    "\n",
    "#plot_token_price(s0, sigma, deltaT, dt, n)\n",
    "plot_distribution(s0, sigma, deltaT, dt, .01, amount, n)\n"
   ]
  }
 ],
 "metadata": {
  "kernelspec": {
   "display_name": "Python 3.8.3 64-bit",
   "language": "python",
   "name": "python3"
  },
  "language_info": {
   "codemirror_mode": {
    "name": "ipython",
    "version": 3
   },
   "file_extension": ".py",
   "mimetype": "text/x-python",
   "name": "python",
   "nbconvert_exporter": "python",
   "pygments_lexer": "ipython3",
   "version": "3.8.3"
  },
  "orig_nbformat": 4,
  "vscode": {
   "interpreter": {
    "hash": "aee8b7b246df8f9039afb4144a1f6fd8d2ca17a180786b69acc140d282b71a49"
   }
  }
 },
 "nbformat": 4,
 "nbformat_minor": 2
}
