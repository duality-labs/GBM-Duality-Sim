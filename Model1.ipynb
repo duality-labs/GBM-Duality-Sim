{
 "cells": [
  {
   "cell_type": "code",
   "execution_count": 1,
   "metadata": {},
   "outputs": [],
   "source": [
    "import math\n",
    "import itertools\n",
    "import numpy as np\n",
    "import scipy.stats as stats\n",
    "import matplotlib.pyplot as plt"
   ]
  },
  {
   "cell_type": "code",
   "execution_count": null,
   "metadata": {},
   "outputs": [],
   "source": [
    "class CSMM:\n",
    "    def __init__(self, _priceAperB, _fee, _rA, _rB):\n",
    "        self.priceAperB = _priceAperB\n",
    "        self.fee = _fee\n",
    "        self.rA = _rA\n",
    "        self.rB = _rB\n",
    "\n",
    "    def maxSwap(self, _aforb):\n",
    "        if _aforb:\n",
    "            self.rA += self.rB * self.priceAperB / self.fee\n",
    "            self.rB = 0\n",
    "        else:\n",
    "            self.rA += self.rB / (self.priceAperB * self.fee)\n",
    "            self.rB = 0"
   ]
  }
 ],
 "metadata": {
  "kernelspec": {
   "display_name": "Python 3.8.3 64-bit",
   "language": "python",
   "name": "python3"
  },
  "language_info": {
   "codemirror_mode": {
    "name": "ipython",
    "version": 3
   },
   "file_extension": ".py",
   "mimetype": "text/x-python",
   "name": "python",
   "nbconvert_exporter": "python",
   "pygments_lexer": "ipython3",
   "version": "3.8.3"
  },
  "orig_nbformat": 4,
  "vscode": {
   "interpreter": {
    "hash": "aee8b7b246df8f9039afb4144a1f6fd8d2ca17a180786b69acc140d282b71a49"
   }
  }
 },
 "nbformat": 4,
 "nbformat_minor": 2
}
